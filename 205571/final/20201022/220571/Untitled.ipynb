{
 "cells": [
  {
   "cell_type": "code",
   "execution_count": 8,
   "metadata": {},
   "outputs": [],
   "source": [
    "import pandas as pd\n",
    "import seaborn as sns\n",
    "import matplotlib.pyplot as plt"
   ]
  },
  {
   "cell_type": "code",
   "execution_count": 2,
   "metadata": {},
   "outputs": [
    {
     "data": {
      "text/html": [
       "<div>\n",
       "<style scoped>\n",
       "    .dataframe tbody tr th:only-of-type {\n",
       "        vertical-align: middle;\n",
       "    }\n",
       "\n",
       "    .dataframe tbody tr th {\n",
       "        vertical-align: top;\n",
       "    }\n",
       "\n",
       "    .dataframe thead th {\n",
       "        text-align: right;\n",
       "    }\n",
       "</style>\n",
       "<table border=\"1\" class=\"dataframe\">\n",
       "  <thead>\n",
       "    <tr style=\"text-align: right;\">\n",
       "      <th></th>\n",
       "      <th>id</th>\n",
       "      <th>ideology</th>\n",
       "      <th>region</th>\n",
       "      <th>ethnic</th>\n",
       "      <th>gender</th>\n",
       "    </tr>\n",
       "  </thead>\n",
       "  <tbody>\n",
       "    <tr>\n",
       "      <th>0</th>\n",
       "      <td>1</td>\n",
       "      <td>6</td>\n",
       "      <td>2</td>\n",
       "      <td>5</td>\n",
       "      <td>1</td>\n",
       "    </tr>\n",
       "    <tr>\n",
       "      <th>1</th>\n",
       "      <td>2</td>\n",
       "      <td>3</td>\n",
       "      <td>2</td>\n",
       "      <td>5</td>\n",
       "      <td>2</td>\n",
       "    </tr>\n",
       "    <tr>\n",
       "      <th>2</th>\n",
       "      <td>3</td>\n",
       "      <td>5</td>\n",
       "      <td>2</td>\n",
       "      <td>5</td>\n",
       "      <td>2</td>\n",
       "    </tr>\n",
       "    <tr>\n",
       "      <th>3</th>\n",
       "      <td>4</td>\n",
       "      <td>5</td>\n",
       "      <td>1</td>\n",
       "      <td>5</td>\n",
       "      <td>1</td>\n",
       "    </tr>\n",
       "    <tr>\n",
       "      <th>4</th>\n",
       "      <td>5</td>\n",
       "      <td>6</td>\n",
       "      <td>1</td>\n",
       "      <td>5</td>\n",
       "      <td>2</td>\n",
       "    </tr>\n",
       "  </tbody>\n",
       "</table>\n",
       "</div>"
      ],
      "text/plain": [
       "   id  ideology  region ethnic  gender\n",
       "0   1         6       2      5       1\n",
       "1   2         3       2      5       2\n",
       "2   3         5       2      5       2\n",
       "3   4         5       1      5       1\n",
       "4   5         6       1      5       2"
      ]
     },
     "execution_count": 2,
     "metadata": {},
     "output_type": "execute_result"
    }
   ],
   "source": [
    "data = pd.read_csv(\"data.csv\")\n",
    "data.head(5)"
   ]
  },
  {
   "cell_type": "code",
   "execution_count": 5,
   "metadata": {},
   "outputs": [
    {
     "data": {
      "text/html": [
       "<div>\n",
       "<style scoped>\n",
       "    .dataframe tbody tr th:only-of-type {\n",
       "        vertical-align: middle;\n",
       "    }\n",
       "\n",
       "    .dataframe tbody tr th {\n",
       "        vertical-align: top;\n",
       "    }\n",
       "\n",
       "    .dataframe thead th {\n",
       "        text-align: right;\n",
       "    }\n",
       "</style>\n",
       "<table border=\"1\" class=\"dataframe\">\n",
       "  <thead>\n",
       "    <tr style=\"text-align: right;\">\n",
       "      <th></th>\n",
       "      <th>id</th>\n",
       "      <th>ideology</th>\n",
       "      <th>region</th>\n",
       "      <th>gender</th>\n",
       "    </tr>\n",
       "  </thead>\n",
       "  <tbody>\n",
       "    <tr>\n",
       "      <th>id</th>\n",
       "      <td>1.000000</td>\n",
       "      <td>-0.012757</td>\n",
       "      <td>0.022750</td>\n",
       "      <td>-0.084828</td>\n",
       "    </tr>\n",
       "    <tr>\n",
       "      <th>ideology</th>\n",
       "      <td>-0.012757</td>\n",
       "      <td>1.000000</td>\n",
       "      <td>0.044045</td>\n",
       "      <td>-0.048771</td>\n",
       "    </tr>\n",
       "    <tr>\n",
       "      <th>region</th>\n",
       "      <td>0.022750</td>\n",
       "      <td>0.044045</td>\n",
       "      <td>1.000000</td>\n",
       "      <td>-0.057242</td>\n",
       "    </tr>\n",
       "    <tr>\n",
       "      <th>gender</th>\n",
       "      <td>-0.084828</td>\n",
       "      <td>-0.048771</td>\n",
       "      <td>-0.057242</td>\n",
       "      <td>1.000000</td>\n",
       "    </tr>\n",
       "  </tbody>\n",
       "</table>\n",
       "</div>"
      ],
      "text/plain": [
       "                id  ideology    region    gender\n",
       "id        1.000000 -0.012757  0.022750 -0.084828\n",
       "ideology -0.012757  1.000000  0.044045 -0.048771\n",
       "region    0.022750  0.044045  1.000000 -0.057242\n",
       "gender   -0.084828 -0.048771 -0.057242  1.000000"
      ]
     },
     "execution_count": 5,
     "metadata": {},
     "output_type": "execute_result"
    }
   ],
   "source": [
    "corr = data.corr()\n",
    "corr"
   ]
  },
  {
   "cell_type": "code",
   "execution_count": 6,
   "metadata": {},
   "outputs": [
    {
     "data": {
      "text/plain": [
       "<matplotlib.axes._subplots.AxesSubplot at 0x7f82602c5eb0>"
      ]
     },
     "execution_count": 6,
     "metadata": {},
     "output_type": "execute_result"
    },
    {
     "data": {
      "image/png": "[encoded data removed]",
      "text/plain": [
       "<Figure size 432x288 with 2 Axes>"
      ]
     },
     "metadata": {
      "needs_background": "light"
     },
     "output_type": "display_data"
    }
   ],
   "source": [
    "corr = data.corr()\n",
    "sns.heatmap(corr, cmap='Blues', annot=True)"
   ]
  },
  {
   "cell_type": "code",
   "execution_count": 9,
   "metadata": {},
   "outputs": [
    {
     "data": {
      "text/plain": [
       "(array([  1.,  40.,  64., 146.,  53., 241., 143.,  88.,   5.,  59.]),\n",
       " array([0. , 0.9, 1.8, 2.7, 3.6, 4.5, 5.4, 6.3, 7.2, 8.1, 9. ]),\n",
       " <a list of 10 Patch objects>)"
      ]
     },
     "execution_count": 9,
     "metadata": {},
     "output_type": "execute_result"
    },
    {
     "data": {
      "image/png": "[encoded data removed]",
      "text/plain": [
       "<Figure size 432x288 with 1 Axes>"
      ]
     },
     "metadata": {
      "needs_background": "light"
     },
     "output_type": "display_data"
    }
   ],
   "source": [
    "plt.hist(data[\"ideology\"].values)"
   ]
  },
  {
   "cell_type": "code",
   "execution_count": 10,
   "metadata": {},
   "outputs": [
    {
     "data": {
      "text/plain": [
       "(array([155.,   0.,   0., 232.,   0.,   0., 283.,   0.,   0., 170.]),\n",
       " array([1. , 1.3, 1.6, 1.9, 2.2, 2.5, 2.8, 3.1, 3.4, 3.7, 4. ]),\n",
       " <a list of 10 Patch objects>)"
      ]
     },
     "execution_count": 10,
     "metadata": {},
     "output_type": "execute_result"
    },
    {
     "data": {
      "image/png": "[encoded data removed]",
      "text/plain": [
       "<Figure size 432x288 with 1 Axes>"
      ]
     },
     "metadata": {
      "needs_background": "light"
     },
     "output_type": "display_data"
    }
   ],
   "source": [
    "plt.hist(data[\"region\"].values)"
   ]
  },
  {
   "cell_type": "code",
   "execution_count": 11,
   "metadata": {},
   "outputs": [
    {
     "data": {
      "text/plain": [
       "(array([698.,  57.,   0.,  43.,   0.,  24.,   3.,   0.,  11.,   4.]),\n",
       " array([0. , 0.6, 1.2, 1.8, 2.4, 3. , 3.6, 4.2, 4.8, 5.4, 6. ]),\n",
       " <a list of 10 Patch objects>)"
      ]
     },
     "execution_count": 11,
     "metadata": {},
     "output_type": "execute_result"
    },
    {
     "data": {
      "image/png": "[encoded data removed]",
      "text/plain": [
       "<Figure size 432x288 with 1 Axes>"
      ]
     },
     "metadata": {
      "needs_background": "light"
     },
     "output_type": "display_data"
    }
   ],
   "source": [
    "plt.hist(data[\"ethnic\"].values)"
   ]
  },
  {
   "cell_type": "code",
   "execution_count": 12,
   "metadata": {},
   "outputs": [
    {
     "data": {
      "text/plain": [
       "(array([366.,   0.,   0.,   0.,   0.,   0.,   0.,   0.,   0., 474.]),\n",
       " array([1. , 1.1, 1.2, 1.3, 1.4, 1.5, 1.6, 1.7, 1.8, 1.9, 2. ]),\n",
       " <a list of 10 Patch objects>)"
      ]
     },
     "execution_count": 12,
     "metadata": {},
     "output_type": "execute_result"
    },
    {
     "data": {
      "image/png": "[encoded data removed]",
      "text/plain": [
       "<Figure size 432x288 with 1 Axes>"
      ]
     },
     "metadata": {
      "needs_background": "light"
     },
     "output_type": "display_data"
    }
   ],
   "source": [
    "plt.hist(data[\"gender\"].values)"
   ]
  },
  {
   "cell_type": "code",
   "execution_count": 13,
   "metadata": {},
   "outputs": [
    {
     "data": {
      "text/html": [
       "<div>\n",
       "<style scoped>\n",
       "    .dataframe tbody tr th:only-of-type {\n",
       "        vertical-align: middle;\n",
       "    }\n",
       "\n",
       "    .dataframe tbody tr th {\n",
       "        vertical-align: top;\n",
       "    }\n",
       "\n",
       "    .dataframe thead th {\n",
       "        text-align: right;\n",
       "    }\n",
       "</style>\n",
       "<table border=\"1\" class=\"dataframe\">\n",
       "  <thead>\n",
       "    <tr style=\"text-align: right;\">\n",
       "      <th></th>\n",
       "      <th>id</th>\n",
       "      <th>ideology</th>\n",
       "      <th>region</th>\n",
       "      <th>ethnic</th>\n",
       "      <th>gender</th>\n",
       "    </tr>\n",
       "  </thead>\n",
       "  <tbody>\n",
       "    <tr>\n",
       "      <th>0</th>\n",
       "      <td>1</td>\n",
       "      <td>6</td>\n",
       "      <td>2</td>\n",
       "      <td>5</td>\n",
       "      <td>1</td>\n",
       "    </tr>\n",
       "    <tr>\n",
       "      <th>3</th>\n",
       "      <td>4</td>\n",
       "      <td>5</td>\n",
       "      <td>1</td>\n",
       "      <td>5</td>\n",
       "      <td>1</td>\n",
       "    </tr>\n",
       "    <tr>\n",
       "      <th>5</th>\n",
       "      <td>6</td>\n",
       "      <td>1</td>\n",
       "      <td>1</td>\n",
       "      <td>1</td>\n",
       "      <td>1</td>\n",
       "    </tr>\n",
       "    <tr>\n",
       "      <th>6</th>\n",
       "      <td>7</td>\n",
       "      <td>4</td>\n",
       "      <td>1</td>\n",
       "      <td>5</td>\n",
       "      <td>1</td>\n",
       "    </tr>\n",
       "    <tr>\n",
       "      <th>11</th>\n",
       "      <td>16</td>\n",
       "      <td>7</td>\n",
       "      <td>4</td>\n",
       "      <td>4</td>\n",
       "      <td>1</td>\n",
       "    </tr>\n",
       "    <tr>\n",
       "      <th>...</th>\n",
       "      <td>...</td>\n",
       "      <td>...</td>\n",
       "      <td>...</td>\n",
       "      <td>...</td>\n",
       "      <td>...</td>\n",
       "    </tr>\n",
       "    <tr>\n",
       "      <th>824</th>\n",
       "      <td>1770</td>\n",
       "      <td>5</td>\n",
       "      <td>3</td>\n",
       "      <td>5</td>\n",
       "      <td>1</td>\n",
       "    </tr>\n",
       "    <tr>\n",
       "      <th>825</th>\n",
       "      <td>1772</td>\n",
       "      <td>3</td>\n",
       "      <td>2</td>\n",
       "      <td>5</td>\n",
       "      <td>1</td>\n",
       "    </tr>\n",
       "    <tr>\n",
       "      <th>827</th>\n",
       "      <td>1774</td>\n",
       "      <td>2</td>\n",
       "      <td>4</td>\n",
       "      <td>5</td>\n",
       "      <td>1</td>\n",
       "    </tr>\n",
       "    <tr>\n",
       "      <th>833</th>\n",
       "      <td>1795</td>\n",
       "      <td>3</td>\n",
       "      <td>1</td>\n",
       "      <td>5</td>\n",
       "      <td>1</td>\n",
       "    </tr>\n",
       "    <tr>\n",
       "      <th>836</th>\n",
       "      <td>1803</td>\n",
       "      <td>6</td>\n",
       "      <td>2</td>\n",
       "      <td>5</td>\n",
       "      <td>1</td>\n",
       "    </tr>\n",
       "  </tbody>\n",
       "</table>\n",
       "<p>366 rows × 5 columns</p>\n",
       "</div>"
      ],
      "text/plain": [
       "       id  ideology  region ethnic  gender\n",
       "0       1         6       2      5       1\n",
       "3       4         5       1      5       1\n",
       "5       6         1       1      1       1\n",
       "6       7         4       1      5       1\n",
       "11     16         7       4      4       1\n",
       "..    ...       ...     ...    ...     ...\n",
       "824  1770         5       3      5       1\n",
       "825  1772         3       2      5       1\n",
       "827  1774         2       4      5       1\n",
       "833  1795         3       1      5       1\n",
       "836  1803         6       2      5       1\n",
       "\n",
       "[366 rows x 5 columns]"
      ]
     },
     "execution_count": 13,
     "metadata": {},
     "output_type": "execute_result"
    }
   ],
   "source": [
    "male = data[data[\"gender\"] == 1]\n",
    "male"
   ]
  },
  {
   "cell_type": "code",
   "execution_count": 14,
   "metadata": {},
   "outputs": [
    {
     "data": {
      "text/html": [
       "<div>\n",
       "<style scoped>\n",
       "    .dataframe tbody tr th:only-of-type {\n",
       "        vertical-align: middle;\n",
       "    }\n",
       "\n",
       "    .dataframe tbody tr th {\n",
       "        vertical-align: top;\n",
       "    }\n",
       "\n",
       "    .dataframe thead th {\n",
       "        text-align: right;\n",
       "    }\n",
       "</style>\n",
       "<table border=\"1\" class=\"dataframe\">\n",
       "  <thead>\n",
       "    <tr style=\"text-align: right;\">\n",
       "      <th></th>\n",
       "      <th>id</th>\n",
       "      <th>ideology</th>\n",
       "      <th>region</th>\n",
       "      <th>ethnic</th>\n",
       "      <th>gender</th>\n",
       "    </tr>\n",
       "  </thead>\n",
       "  <tbody>\n",
       "    <tr>\n",
       "      <th>1</th>\n",
       "      <td>2</td>\n",
       "      <td>3</td>\n",
       "      <td>2</td>\n",
       "      <td>5</td>\n",
       "      <td>2</td>\n",
       "    </tr>\n",
       "    <tr>\n",
       "      <th>2</th>\n",
       "      <td>3</td>\n",
       "      <td>5</td>\n",
       "      <td>2</td>\n",
       "      <td>5</td>\n",
       "      <td>2</td>\n",
       "    </tr>\n",
       "    <tr>\n",
       "      <th>4</th>\n",
       "      <td>5</td>\n",
       "      <td>6</td>\n",
       "      <td>1</td>\n",
       "      <td>5</td>\n",
       "      <td>2</td>\n",
       "    </tr>\n",
       "    <tr>\n",
       "      <th>7</th>\n",
       "      <td>8</td>\n",
       "      <td>3</td>\n",
       "      <td>1</td>\n",
       "      <td>5</td>\n",
       "      <td>2</td>\n",
       "    </tr>\n",
       "    <tr>\n",
       "      <th>8</th>\n",
       "      <td>10</td>\n",
       "      <td>2</td>\n",
       "      <td>2</td>\n",
       "      <td>5</td>\n",
       "      <td>2</td>\n",
       "    </tr>\n",
       "    <tr>\n",
       "      <th>...</th>\n",
       "      <td>...</td>\n",
       "      <td>...</td>\n",
       "      <td>...</td>\n",
       "      <td>...</td>\n",
       "      <td>...</td>\n",
       "    </tr>\n",
       "    <tr>\n",
       "      <th>834</th>\n",
       "      <td>1798</td>\n",
       "      <td>3</td>\n",
       "      <td>3</td>\n",
       "      <td>5</td>\n",
       "      <td>2</td>\n",
       "    </tr>\n",
       "    <tr>\n",
       "      <th>835</th>\n",
       "      <td>1800</td>\n",
       "      <td>3</td>\n",
       "      <td>3</td>\n",
       "      <td>5</td>\n",
       "      <td>2</td>\n",
       "    </tr>\n",
       "    <tr>\n",
       "      <th>837</th>\n",
       "      <td>1804</td>\n",
       "      <td>5</td>\n",
       "      <td>2</td>\n",
       "      <td>5</td>\n",
       "      <td>2</td>\n",
       "    </tr>\n",
       "    <tr>\n",
       "      <th>838</th>\n",
       "      <td>1807</td>\n",
       "      <td>5</td>\n",
       "      <td>3</td>\n",
       "      <td>1</td>\n",
       "      <td>2</td>\n",
       "    </tr>\n",
       "    <tr>\n",
       "      <th>839</th>\n",
       "      <td>1809</td>\n",
       "      <td>3</td>\n",
       "      <td>2</td>\n",
       "      <td>5</td>\n",
       "      <td>2</td>\n",
       "    </tr>\n",
       "  </tbody>\n",
       "</table>\n",
       "<p>474 rows × 5 columns</p>\n",
       "</div>"
      ],
      "text/plain": [
       "       id  ideology  region ethnic  gender\n",
       "1       2         3       2      5       2\n",
       "2       3         5       2      5       2\n",
       "4       5         6       1      5       2\n",
       "7       8         3       1      5       2\n",
       "8      10         2       2      5       2\n",
       "..    ...       ...     ...    ...     ...\n",
       "834  1798         3       3      5       2\n",
       "835  1800         3       3      5       2\n",
       "837  1804         5       2      5       2\n",
       "838  1807         5       3      1       2\n",
       "839  1809         3       2      5       2\n",
       "\n",
       "[474 rows x 5 columns]"
      ]
     },
     "execution_count": 14,
     "metadata": {},
     "output_type": "execute_result"
    }
   ],
   "source": [
    "female = data[data[\"gender\"] == 2]\n",
    "female"
   ]
  },
  {
   "cell_type": "code",
   "execution_count": 15,
   "metadata": {},
   "outputs": [
    {
     "data": {
      "text/plain": [
       "<matplotlib.axes._subplots.AxesSubplot at 0x7f826072cdf0>"
      ]
     },
     "execution_count": 15,
     "metadata": {},
     "output_type": "execute_result"
    },
    {
     "data": {
      "image/png": "[encoded data removed]",
      "text/plain": [
       "<Figure size 432x288 with 2 Axes>"
      ]
     },
     "metadata": {
      "needs_background": "light"
     },
     "output_type": "display_data"
    }
   ],
   "source": [
    "corr = male.corr()\n",
    "sns.heatmap(corr, cmap='Blues', annot=True)"
   ]
  },
  {
   "cell_type": "code",
   "execution_count": 16,
   "metadata": {},
   "outputs": [
    {
     "data": {
      "text/plain": [
       "<matplotlib.axes._subplots.AxesSubplot at 0x7f82609c6b50>"
      ]
     },
     "execution_count": 16,
     "metadata": {},
     "output_type": "execute_result"
    },
    {
     "data": {
      "image/png": "[encoded data removed]",
      "text/plain": [
       "<Figure size 432x288 with 2 Axes>"
      ]
     },
     "metadata": {
      "needs_background": "light"
     },
     "output_type": "display_data"
    }
   ],
   "source": [
    "corr = female.corr()\n",
    "sns.heatmap(corr, cmap='Blues', annot=True)"
   ]
  },
  {
   "cell_type": "code",
   "execution_count": 17,
   "metadata": {},
   "outputs": [
    {
     "data": {
      "text/html": [
       "<div>\n",
       "<style scoped>\n",
       "    .dataframe tbody tr th:only-of-type {\n",
       "        vertical-align: middle;\n",
       "    }\n",
       "\n",
       "    .dataframe tbody tr th {\n",
       "        vertical-align: top;\n",
       "    }\n",
       "\n",
       "    .dataframe thead th {\n",
       "        text-align: right;\n",
       "    }\n",
       "</style>\n",
       "<table border=\"1\" class=\"dataframe\">\n",
       "  <thead>\n",
       "    <tr style=\"text-align: right;\">\n",
       "      <th></th>\n",
       "      <th>id</th>\n",
       "      <th>ideology</th>\n",
       "      <th>region</th>\n",
       "      <th>ethnic</th>\n",
       "      <th>gender</th>\n",
       "    </tr>\n",
       "  </thead>\n",
       "  <tbody>\n",
       "    <tr>\n",
       "      <th>0</th>\n",
       "      <td>1</td>\n",
       "      <td>6</td>\n",
       "      <td>2</td>\n",
       "      <td>5</td>\n",
       "      <td>1</td>\n",
       "    </tr>\n",
       "    <tr>\n",
       "      <th>1</th>\n",
       "      <td>2</td>\n",
       "      <td>3</td>\n",
       "      <td>2</td>\n",
       "      <td>5</td>\n",
       "      <td>2</td>\n",
       "    </tr>\n",
       "    <tr>\n",
       "      <th>2</th>\n",
       "      <td>3</td>\n",
       "      <td>5</td>\n",
       "      <td>2</td>\n",
       "      <td>5</td>\n",
       "      <td>2</td>\n",
       "    </tr>\n",
       "    <tr>\n",
       "      <th>3</th>\n",
       "      <td>4</td>\n",
       "      <td>5</td>\n",
       "      <td>1</td>\n",
       "      <td>5</td>\n",
       "      <td>1</td>\n",
       "    </tr>\n",
       "    <tr>\n",
       "      <th>4</th>\n",
       "      <td>5</td>\n",
       "      <td>6</td>\n",
       "      <td>1</td>\n",
       "      <td>5</td>\n",
       "      <td>2</td>\n",
       "    </tr>\n",
       "    <tr>\n",
       "      <th>...</th>\n",
       "      <td>...</td>\n",
       "      <td>...</td>\n",
       "      <td>...</td>\n",
       "      <td>...</td>\n",
       "      <td>...</td>\n",
       "    </tr>\n",
       "    <tr>\n",
       "      <th>835</th>\n",
       "      <td>1800</td>\n",
       "      <td>3</td>\n",
       "      <td>3</td>\n",
       "      <td>5</td>\n",
       "      <td>2</td>\n",
       "    </tr>\n",
       "    <tr>\n",
       "      <th>836</th>\n",
       "      <td>1803</td>\n",
       "      <td>6</td>\n",
       "      <td>2</td>\n",
       "      <td>5</td>\n",
       "      <td>1</td>\n",
       "    </tr>\n",
       "    <tr>\n",
       "      <th>837</th>\n",
       "      <td>1804</td>\n",
       "      <td>5</td>\n",
       "      <td>2</td>\n",
       "      <td>5</td>\n",
       "      <td>2</td>\n",
       "    </tr>\n",
       "    <tr>\n",
       "      <th>838</th>\n",
       "      <td>1807</td>\n",
       "      <td>5</td>\n",
       "      <td>3</td>\n",
       "      <td>1</td>\n",
       "      <td>2</td>\n",
       "    </tr>\n",
       "    <tr>\n",
       "      <th>839</th>\n",
       "      <td>1809</td>\n",
       "      <td>3</td>\n",
       "      <td>2</td>\n",
       "      <td>5</td>\n",
       "      <td>2</td>\n",
       "    </tr>\n",
       "  </tbody>\n",
       "</table>\n",
       "<p>840 rows × 5 columns</p>\n",
       "</div>"
      ],
      "text/plain": [
       "       id  ideology  region ethnic  gender\n",
       "0       1         6       2      5       1\n",
       "1       2         3       2      5       2\n",
       "2       3         5       2      5       2\n",
       "3       4         5       1      5       1\n",
       "4       5         6       1      5       2\n",
       "..    ...       ...     ...    ...     ...\n",
       "835  1800         3       3      5       2\n",
       "836  1803         6       2      5       1\n",
       "837  1804         5       2      5       2\n",
       "838  1807         5       3      1       2\n",
       "839  1809         3       2      5       2\n",
       "\n",
       "[840 rows x 5 columns]"
      ]
     },
     "execution_count": 17,
     "metadata": {},
     "output_type": "execute_result"
    }
   ],
   "source": [
    "data"
   ]
  },
  {
   "cell_type": "code",
   "execution_count": 21,
   "metadata": {},
   "outputs": [],
   "source": [
    "south_mid = data[(data[\"region\"] == 3) | (data[\"region\"] == 2)]\n",
    "north = data[data[\"region\"] == 1]"
   ]
  },
  {
   "cell_type": "code",
   "execution_count": 23,
   "metadata": {},
   "outputs": [],
   "source": [
    "south_mid_length = len(south_mid[\"ideology\"])\n",
    "north_length = len(north[\"ideology\"])"
   ]
  },
  {
   "cell_type": "code",
   "execution_count": 24,
   "metadata": {},
   "outputs": [],
   "source": [
    "south_sizes = list()\n",
    "north_sizes = list()\n",
    "labels = list()\n",
    "for i in set(data[\"ideology\"].values):\n",
    "    labels.append(str(i))\n",
    "    south_size = len(south_mid[south_mid[\"ideology\"] == i].values) / south_mid_length\n",
    "    north_size = len(north[north[\"ideology\"] == i].values) / north_length\n",
    "    south_sizes.append(south_size)\n",
    "    north_sizes.append(north_size)"
   ]
  },
  {
   "cell_type": "code",
   "execution_count": 25,
   "metadata": {},
   "outputs": [
    {
     "data": {
      "text/plain": [
       "['0', '1', '2', '3', '4', '5', '6', '7', '8', '9']"
      ]
     },
     "execution_count": 25,
     "metadata": {},
     "output_type": "execute_result"
    }
   ],
   "source": [
    "labels"
   ]
  },
  {
   "cell_type": "code",
   "execution_count": 31,
   "metadata": {},
   "outputs": [
    {
     "data": {
      "text/plain": [
       "[0.0, 0.0, 0.0, 0.0, 0.0, 0.0, 0.0, 0.0, 0.0, 0.0]"
      ]
     },
     "execution_count": 31,
     "metadata": {},
     "output_type": "execute_result"
    }
   ],
   "source": [
    "import numpy as np\n",
    "explode = list(np.zeros(10))\n",
    "explode"
   ]
  },
  {
   "cell_type": "code",
   "execution_count": 33,
   "metadata": {},
   "outputs": [
    {
     "data": {
      "image/png": "[encoded data removed]",
      "text/plain": [
       "<Figure size 432x288 with 1 Axes>"
      ]
     },
     "metadata": {},
     "output_type": "display_data"
    }
   ],
   "source": [
    "plt.pie(south_sizes,explode=explode,labels=labels,autopct='%1.1f%%',shadow=False,startangle=150)\n",
    "plt.title(\"Southerners and Midwesterners\")\n",
    "plt.show() "
   ]
  },
  {
   "cell_type": "code",
   "execution_count": 35,
   "metadata": {},
   "outputs": [
    {
     "data": {
      "image/png": "[encoded data removed]",
      "text/plain": [
       "<Figure size 432x288 with 1 Axes>"
      ]
     },
     "metadata": {},
     "output_type": "display_data"
    }
   ],
   "source": [
    "plt.pie(north_sizes,explode=explode,labels=labels,autopct='%1.1f%%',shadow=False,startangle=150)\n",
    "plt.title(\"Northeasterners and Westerners\")\n",
    "plt.show() "
   ]
  },
  {
   "cell_type": "code",
   "execution_count": 36,
   "metadata": {},
   "outputs": [],
   "source": [
    "from  scipy.stats import chi2_contingency"
   ]
  },
  {
   "cell_type": "code",
   "execution_count": 68,
   "metadata": {},
   "outputs": [],
   "source": [
    "a = data[data[\"gender\"] == 1][\"ideology\"].values\n",
    "b = data[data[\"gender\"] == 2][\"ideology\"].values[:366]"
   ]
  },
  {
   "cell_type": "code",
   "execution_count": 69,
   "metadata": {},
   "outputs": [],
   "source": [
    "kf_data = np.vstack((a, b))"
   ]
  },
  {
   "cell_type": "code",
   "execution_count": 45,
   "metadata": {},
   "outputs": [
    {
     "data": {
      "text/plain": [
       "array([list([6, 5, 1, 4, 7, 3, 6, 6, 6, 2, 9, 5, 5, 2, 7, 3, 6, 5, 7, 2, 6, 6, 4, 3, 6, 4, 6, 9, 6, 9, 4, 6, 6, 2, 2, 5, 3, 2, 5, 9, 6, 5, 5, 3, 4, 6, 6, 7, 6, 7, 6, 1, 1, 9, 6, 6, 3, 5, 5, 3, 5, 6, 5, 3, 7, 2, 5, 6, 7, 7, 4, 3, 6, 3, 3, 5, 3, 6, 2, 5, 1, 6, 7, 6, 4, 4, 9, 6, 5, 5, 7, 6, 6, 2, 2, 9, 6, 6, 6, 6, 5, 3, 6, 7, 5, 5, 5, 1, 5, 5, 3, 3, 4, 3, 6, 1, 6, 7, 4, 5, 3, 3, 6, 5, 7, 5, 4, 5, 6, 7, 2, 7, 6, 5, 7, 7, 7, 5, 5, 3, 6, 5, 7, 6, 9, 3, 5, 5, 3, 9, 5, 3, 3, 6, 7, 6, 2, 7, 2, 7, 6, 9, 9, 5, 7, 5, 5, 5, 5, 1, 7, 5, 9, 5, 3, 9, 1, 3, 7, 6, 3, 5, 9, 5, 6, 5, 1, 5, 6, 1, 3, 3, 3, 3, 6, 5, 5, 1, 1, 6, 2, 6, 6, 2, 3, 5, 2, 5, 5, 3, 3, 6, 5, 5, 6, 5, 7, 4, 7, 5, 3, 2, 3, 5, 6, 2, 5, 5, 4, 9, 5, 2, 5, 5, 6, 1, 6, 5, 5, 6, 6, 5, 5, 9, 5, 7, 5, 6, 5, 3, 5, 6, 6, 4, 7, 6, 3, 1, 5, 6, 4, 2, 5, 3, 9, 3, 7, 1, 5, 6, 5, 7, 2, 5, 9, 5, 6, 2, 5, 7, 3, 7, 5, 4, 7, 2, 8, 6, 5, 4, 4, 6, 7, 9, 5, 4, 6, 2, 6, 6, 6, 1, 5, 5, 7, 5, 6, 3, 7, 1, 6, 9, 5, 5, 5, 9, 5, 6, 5, 7, 6, 7, 3, 2, 5, 4, 9, 1, 5, 3, 5, 5, 5, 3, 3, 1, 5, 5, 5, 6, 7, 2, 3, 9, 1, 5, 5, 6, 9, 3, 5, 5, 6, 7, 6, 5, 3, 6, 5, 7, 6, 5, 3, 2, 3, 6]),\n",
       "       list([3, 5, 6, 3, 2, 3, 4, 9, 7, 5, 5, 3, 1, 6, 1, 5, 5, 5, 5, 3, 5, 9, 7, 3, 3, 1, 4, 5, 1, 5, 5, 5, 5, 7, 5, 6, 5, 6, 5, 5, 2, 9, 8, 5, 4, 4, 5, 9, 6, 9, 3, 5, 7, 3, 5, 9, 3, 5, 1, 2, 9, 5, 6, 6, 7, 4, 9, 5, 7, 3, 9, 6, 5, 6, 6, 4, 4, 5, 2, 5, 6, 6, 3, 6, 3, 5, 7, 6, 5, 6, 5, 1, 5, 9, 7, 3, 5, 5, 7, 6, 5, 2, 3, 7, 9, 7, 5, 6, 5, 5, 3, 5, 5, 3, 3, 3, 3, 5, 1, 4, 2, 5, 5, 4, 2, 5, 7, 3, 1, 1, 5, 3, 6, 4, 4, 7, 5, 5, 4, 9, 2, 1, 4, 4, 4, 3, 1, 6, 2, 7, 7, 3, 3, 3, 3, 5, 2, 3, 3, 3, 4, 7, 6, 7, 4, 5, 3, 6, 7, 2, 6, 9, 8, 7, 7, 8, 5, 6, 3, 5, 9, 6, 6, 9, 4, 2, 7, 6, 5, 6, 2, 9, 6, 9, 5, 5, 2, 7, 5, 3, 5, 4, 3, 3, 6, 5, 3, 6, 1, 5, 1, 9, 4, 4, 5, 3, 3, 6, 5, 5, 1, 1, 9, 5, 3, 5, 7, 7, 5, 2, 3, 4, 3, 9, 5, 6, 6, 7, 5, 3, 5, 2, 3, 5, 5, 5, 5, 6, 5, 2, 7, 3, 3, 5, 5, 5, 3, 3, 3, 5, 5, 5, 7, 1, 4, 5, 7, 5, 6, 6, 5, 7, 7, 5, 5, 2, 3, 5, 6, 5, 5, 5, 5, 7, 5, 3, 6, 3, 6, 3, 3, 5, 3, 6, 5, 5, 7, 5, 3, 5, 3, 5, 5, 5, 7, 7, 3, 5, 6, 1, 3, 9, 4, 2, 6, 8, 5, 3, 3, 4, 4, 5, 7, 2, 4, 5, 5, 5, 5, 2, 3, 6, 3, 0, 9, 3, 7, 2, 2, 6, 6, 1, 3, 4, 5, 3, 4, 7, 6, 3, 2, 5, 5, 7, 1, 3, 3, 7, 3, 9, 5, 6, 7, 5, 3, 6, 3, 5, 5, 3, 5, 5, 2, 6, 9, 6, 5, 3, 3, 4, 2, 2, 1, 4, 7, 5, 2, 7, 9, 6, 3, 2, 6, 9, 5, 9, 5, 3, 4, 3, 5, 5, 5, 3, 2, 6, 5, 5, 5, 6, 5, 2, 3, 3, 9, 6, 3, 3, 6, 2, 3, 6, 5, 5, 7, 9, 3, 5, 4, 3, 5, 2, 9, 2, 5, 5, 2, 6, 3, 5, 6, 3, 9, 3, 3, 2, 5, 5, 9, 3, 3, 9, 6, 3, 9, 7, 7, 5, 7, 3, 6, 5, 5, 5, 5, 5, 9, 2, 6, 3, 3, 5, 5, 3])],\n",
       "      dtype=object)"
      ]
     },
     "execution_count": 45,
     "metadata": {},
     "output_type": "execute_result"
    }
   ],
   "source": [
    "kf_data = [, list()]\n",
    "np.array(kf_data)"
   ]
  },
  {
   "cell_type": "code",
   "execution_count": 42,
   "metadata": {},
   "outputs": [],
   "source": [
    "kf_data = np.array([[11.7,8.7,15.4,8.4], [18.1,11.7,24.3,13.6],\n",
    "              [26.9,20.3,37,19.3],[41,30.9,54.6,35.1],\n",
    "              [66,54.3,71.1,50]])"
   ]
  },
  {
   "cell_type": "code",
   "execution_count": 70,
   "metadata": {},
   "outputs": [],
   "source": [
    "kf = chi2_contingency(kf_data)"
   ]
  },
  {
   "cell_type": "code",
   "execution_count": 71,
   "metadata": {},
   "outputs": [
    {
     "name": "stdout",
     "output_type": "stream",
     "text": [
      "chisq-statistic=292.1525, p-value=0.9980, df=365 expected_frep=[[4.59245708 5.10273009 3.57191106 3.57191106 4.59245708 3.06163805\n",
      "  5.10273009 7.65409513 6.63354911 3.57191106 7.14382212 4.08218407\n",
      "  3.06163805 4.08218407 4.08218407 4.08218407 5.6130031  5.10273009\n",
      "  6.1232761  2.55136504 5.6130031  7.65409513 5.6130031  3.06163805\n",
      "  4.59245708 2.55136504 5.10273009 7.14382212 3.57191106 7.14382212\n",
      "  4.59245708 5.6130031  5.6130031  4.59245708 3.57191106 5.6130031\n",
      "  4.08218407 4.08218407 5.10273009 7.14382212 4.08218407 7.14382212\n",
      "  6.63354911 4.08218407 4.08218407 5.10273009 5.6130031  8.16436814\n",
      "  6.1232761  8.16436814 4.59245708 3.06163805 4.08218407 6.1232761\n",
      "  5.6130031  7.65409513 3.06163805 5.10273009 3.06163805 2.55136504\n",
      "  7.14382212 5.6130031  5.6130031  4.59245708 7.14382212 3.06163805\n",
      "  7.14382212 5.6130031  7.14382212 5.10273009 6.63354911 4.59245708\n",
      "  5.6130031  4.59245708 4.59245708 4.59245708 3.57191106 5.6130031\n",
      "  2.04109203 5.10273009 3.57191106 6.1232761  5.10273009 6.1232761\n",
      "  3.57191106 4.59245708 8.16436814 6.1232761  5.10273009 5.6130031\n",
      "  6.1232761  3.57191106 5.6130031  5.6130031  4.59245708 6.1232761\n",
      "  5.6130031  5.6130031  6.63354911 6.1232761  5.10273009 2.55136504\n",
      "  4.59245708 7.14382212 7.14382212 6.1232761  5.10273009 3.57191106\n",
      "  5.10273009 5.10273009 3.06163805 4.08218407 4.59245708 3.06163805\n",
      "  4.59245708 2.04109203 4.59245708 6.1232761  2.55136504 4.59245708\n",
      "  2.55136504 4.08218407 5.6130031  4.59245708 4.59245708 5.10273009\n",
      "  5.6130031  4.08218407 3.57191106 4.08218407 3.57191106 5.10273009\n",
      "  6.1232761  4.59245708 5.6130031  7.14382212 6.1232761  5.10273009\n",
      "  4.59245708 6.1232761  4.08218407 3.06163805 5.6130031  5.10273009\n",
      "  6.63354911 3.06163805 3.06163805 5.6130031  2.55136504 8.16436814\n",
      "  6.1232761  3.06163805 3.06163805 4.59245708 5.10273009 5.6130031\n",
      "  2.04109203 5.10273009 2.55136504 5.10273009 5.10273009 8.16436814\n",
      "  7.65409513 6.1232761  5.6130031  5.10273009 4.08218407 5.6130031\n",
      "  6.1232761  1.53081903 6.63354911 7.14382212 8.67464115 6.1232761\n",
      "  5.10273009 8.67464115 3.06163805 4.59245708 5.10273009 5.6130031\n",
      "  6.1232761  5.6130031  7.65409513 7.14382212 5.10273009 3.57191106\n",
      "  4.08218407 5.6130031  5.6130031  3.57191106 2.55136504 6.1232761\n",
      "  4.59245708 6.1232761  5.6130031  5.10273009 3.57191106 4.08218407\n",
      "  3.06163805 4.59245708 3.57191106 5.10273009 4.59245708 2.55136504\n",
      "  4.59245708 5.10273009 2.55136504 5.6130031  3.06163805 4.08218407\n",
      "  2.04109203 7.65409513 4.59245708 4.59245708 5.6130031  4.08218407\n",
      "  5.10273009 5.10273009 6.1232761  5.10273009 2.04109203 1.53081903\n",
      "  6.1232761  5.10273009 4.59245708 3.57191106 6.1232761  6.1232761\n",
      "  4.59245708 5.6130031  4.08218407 3.06163805 4.08218407 7.14382212\n",
      "  5.6130031  3.57191106 6.1232761  6.1232761  5.10273009 4.59245708\n",
      "  5.6130031  3.57191106 4.08218407 7.14382212 5.10273009 6.1232761\n",
      "  5.10273009 6.1232761  5.10273009 2.55136504 6.1232761  4.59245708\n",
      "  4.59245708 4.59245708 6.1232761  5.6130031  3.06163805 2.04109203\n",
      "  4.08218407 5.6130031  4.59245708 3.57191106 6.1232761  2.04109203\n",
      "  6.63354911 4.08218407 7.14382212 3.06163805 5.6130031  6.1232761\n",
      "  5.10273009 7.14382212 4.59245708 5.10273009 7.14382212 3.57191106\n",
      "  4.59245708 3.57191106 5.6130031  6.1232761  4.08218407 6.1232761\n",
      "  5.10273009 5.6130031  6.1232761  2.55136504 7.14382212 4.59245708\n",
      "  5.6130031  3.57191106 3.57191106 5.6130031  5.10273009 7.65409513\n",
      "  5.10273009 4.59245708 6.63354911 3.57191106 4.59245708 5.6130031\n",
      "  4.59245708 3.06163805 5.10273009 5.10273009 7.14382212 6.1232761\n",
      "  4.59245708 4.08218407 6.63354911 1.02054602 4.59245708 9.18491416\n",
      "  4.59245708 3.57191106 5.6130031  8.67464115 5.10273009 4.59245708\n",
      "  4.08218407 5.6130031  5.10273009 6.1232761  5.10273009 2.04109203\n",
      "  4.59245708 4.59245708 7.14382212 3.06163805 5.10273009 2.55136504\n",
      "  4.08218407 5.6130031  4.08218407 1.53081903 6.1232761  2.04109203\n",
      "  6.1232761  3.57191106 3.57191106 6.1232761  6.63354911 1.53081903\n",
      "  3.06163805 6.63354911 3.06163805 4.08218407 4.59245708 6.63354911\n",
      "  7.65409513 3.06163805 3.57191106 5.10273009 5.6130031  7.14382212\n",
      "  3.57191106 4.08218407 3.06163805 6.63354911 4.08218407 8.16436814\n",
      "  5.6130031  5.6130031  5.10273009 3.57191106 3.06163805 6.1232761 ]\n",
      " [4.40754292 4.89726991 3.42808894 3.42808894 4.40754292 2.93836195\n",
      "  4.89726991 7.34590487 6.36645089 3.42808894 6.85617788 3.91781593\n",
      "  2.93836195 3.91781593 3.91781593 3.91781593 5.3869969  4.89726991\n",
      "  5.8767239  2.44863496 5.3869969  7.34590487 5.3869969  2.93836195\n",
      "  4.40754292 2.44863496 4.89726991 6.85617788 3.42808894 6.85617788\n",
      "  4.40754292 5.3869969  5.3869969  4.40754292 3.42808894 5.3869969\n",
      "  3.91781593 3.91781593 4.89726991 6.85617788 3.91781593 6.85617788\n",
      "  6.36645089 3.91781593 3.91781593 4.89726991 5.3869969  7.83563186\n",
      "  5.8767239  7.83563186 4.40754292 2.93836195 3.91781593 5.8767239\n",
      "  5.3869969  7.34590487 2.93836195 4.89726991 2.93836195 2.44863496\n",
      "  6.85617788 5.3869969  5.3869969  4.40754292 6.85617788 2.93836195\n",
      "  6.85617788 5.3869969  6.85617788 4.89726991 6.36645089 4.40754292\n",
      "  5.3869969  4.40754292 4.40754292 4.40754292 3.42808894 5.3869969\n",
      "  1.95890797 4.89726991 3.42808894 5.8767239  4.89726991 5.8767239\n",
      "  3.42808894 4.40754292 7.83563186 5.8767239  4.89726991 5.3869969\n",
      "  5.8767239  3.42808894 5.3869969  5.3869969  4.40754292 5.8767239\n",
      "  5.3869969  5.3869969  6.36645089 5.8767239  4.89726991 2.44863496\n",
      "  4.40754292 6.85617788 6.85617788 5.8767239  4.89726991 3.42808894\n",
      "  4.89726991 4.89726991 2.93836195 3.91781593 4.40754292 2.93836195\n",
      "  4.40754292 1.95890797 4.40754292 5.8767239  2.44863496 4.40754292\n",
      "  2.44863496 3.91781593 5.3869969  4.40754292 4.40754292 4.89726991\n",
      "  5.3869969  3.91781593 3.42808894 3.91781593 3.42808894 4.89726991\n",
      "  5.8767239  4.40754292 5.3869969  6.85617788 5.8767239  4.89726991\n",
      "  4.40754292 5.8767239  3.91781593 2.93836195 5.3869969  4.89726991\n",
      "  6.36645089 2.93836195 2.93836195 5.3869969  2.44863496 7.83563186\n",
      "  5.8767239  2.93836195 2.93836195 4.40754292 4.89726991 5.3869969\n",
      "  1.95890797 4.89726991 2.44863496 4.89726991 4.89726991 7.83563186\n",
      "  7.34590487 5.8767239  5.3869969  4.89726991 3.91781593 5.3869969\n",
      "  5.8767239  1.46918097 6.36645089 6.85617788 8.32535885 5.8767239\n",
      "  4.89726991 8.32535885 2.93836195 4.40754292 4.89726991 5.3869969\n",
      "  5.8767239  5.3869969  7.34590487 6.85617788 4.89726991 3.42808894\n",
      "  3.91781593 5.3869969  5.3869969  3.42808894 2.44863496 5.8767239\n",
      "  4.40754292 5.8767239  5.3869969  4.89726991 3.42808894 3.91781593\n",
      "  2.93836195 4.40754292 3.42808894 4.89726991 4.40754292 2.44863496\n",
      "  4.40754292 4.89726991 2.44863496 5.3869969  2.93836195 3.91781593\n",
      "  1.95890797 7.34590487 4.40754292 4.40754292 5.3869969  3.91781593\n",
      "  4.89726991 4.89726991 5.8767239  4.89726991 1.95890797 1.46918097\n",
      "  5.8767239  4.89726991 4.40754292 3.42808894 5.8767239  5.8767239\n",
      "  4.40754292 5.3869969  3.91781593 2.93836195 3.91781593 6.85617788\n",
      "  5.3869969  3.42808894 5.8767239  5.8767239  4.89726991 4.40754292\n",
      "  5.3869969  3.42808894 3.91781593 6.85617788 4.89726991 5.8767239\n",
      "  4.89726991 5.8767239  4.89726991 2.44863496 5.8767239  4.40754292\n",
      "  4.40754292 4.40754292 5.8767239  5.3869969  2.93836195 1.95890797\n",
      "  3.91781593 5.3869969  4.40754292 3.42808894 5.8767239  1.95890797\n",
      "  6.36645089 3.91781593 6.85617788 2.93836195 5.3869969  5.8767239\n",
      "  4.89726991 6.85617788 4.40754292 4.89726991 6.85617788 3.42808894\n",
      "  4.40754292 3.42808894 5.3869969  5.8767239  3.91781593 5.8767239\n",
      "  4.89726991 5.3869969  5.8767239  2.44863496 6.85617788 4.40754292\n",
      "  5.3869969  3.42808894 3.42808894 5.3869969  4.89726991 7.34590487\n",
      "  4.89726991 4.40754292 6.36645089 3.42808894 4.40754292 5.3869969\n",
      "  4.40754292 2.93836195 4.89726991 4.89726991 6.85617788 5.8767239\n",
      "  4.40754292 3.91781593 6.36645089 0.97945398 4.40754292 8.81508584\n",
      "  4.40754292 3.42808894 5.3869969  8.32535885 4.89726991 4.40754292\n",
      "  3.91781593 5.3869969  4.89726991 5.8767239  4.89726991 1.95890797\n",
      "  4.40754292 4.40754292 6.85617788 2.93836195 4.89726991 2.44863496\n",
      "  3.91781593 5.3869969  3.91781593 1.46918097 5.8767239  1.95890797\n",
      "  5.8767239  3.42808894 3.42808894 5.8767239  6.36645089 1.46918097\n",
      "  2.93836195 6.36645089 2.93836195 3.91781593 4.40754292 6.36645089\n",
      "  7.34590487 2.93836195 3.42808894 4.89726991 5.3869969  6.85617788\n",
      "  3.42808894 3.91781593 2.93836195 6.36645089 3.91781593 7.83563186\n",
      "  5.3869969  5.3869969  4.89726991 3.42808894 2.93836195 5.8767239 ]]\n"
     ]
    }
   ],
   "source": [
    "print('chisq-statistic=%.4f, p-value=%.4f, df=%i expected_frep=%s'%kf)"
   ]
  },
  {
   "cell_type": "code",
   "execution_count": 74,
   "metadata": {},
   "outputs": [],
   "source": [
    "from scipy.stats import chi2_contingency\n",
    "from scipy.stats import chi2"
   ]
  },
  {
   "cell_type": "code",
   "execution_count": 75,
   "metadata": {},
   "outputs": [],
   "source": [
    "def chi2_independence(alpha, data):\n",
    "    g, p, dof, expctd = chi2_contingency(data)\n",
    "    if dof == 0:\n",
    "        print('自由度应该大于等于1')\n",
    "    elif dof == 1:\n",
    "        cv = chi2.isf(alpha * 0.5, dof)\n",
    "    else:\n",
    "        cv = chi2.isf(alpha * 0.5, dof-1)\n",
    "\n",
    "    if g > cv:\n",
    "        re = 1  # 表示拒绝原假设\n",
    "    else:\n",
    "        re = 0  # 表示接受原假设\n",
    "    return g, p, dof, re, expctd"
   ]
  },
  {
   "cell_type": "code",
   "execution_count": 76,
   "metadata": {},
   "outputs": [
    {
     "data": {
      "text/plain": [
       "(292.1524654677549,\n",
       " 0.9979783813559069,\n",
       " 365,\n",
       " 0,\n",
       " array([[4.59245708, 5.10273009, 3.57191106, 3.57191106, 4.59245708,\n",
       "         3.06163805, 5.10273009, 7.65409513, 6.63354911, 3.57191106,\n",
       "         7.14382212, 4.08218407, 3.06163805, 4.08218407, 4.08218407,\n",
       "         4.08218407, 5.6130031 , 5.10273009, 6.1232761 , 2.55136504,\n",
       "         5.6130031 , 7.65409513, 5.6130031 , 3.06163805, 4.59245708,\n",
       "         2.55136504, 5.10273009, 7.14382212, 3.57191106, 7.14382212,\n",
       "         4.59245708, 5.6130031 , 5.6130031 , 4.59245708, 3.57191106,\n",
       "         5.6130031 , 4.08218407, 4.08218407, 5.10273009, 7.14382212,\n",
       "         4.08218407, 7.14382212, 6.63354911, 4.08218407, 4.08218407,\n",
       "         5.10273009, 5.6130031 , 8.16436814, 6.1232761 , 8.16436814,\n",
       "         4.59245708, 3.06163805, 4.08218407, 6.1232761 , 5.6130031 ,\n",
       "         7.65409513, 3.06163805, 5.10273009, 3.06163805, 2.55136504,\n",
       "         7.14382212, 5.6130031 , 5.6130031 , 4.59245708, 7.14382212,\n",
       "         3.06163805, 7.14382212, 5.6130031 , 7.14382212, 5.10273009,\n",
       "         6.63354911, 4.59245708, 5.6130031 , 4.59245708, 4.59245708,\n",
       "         4.59245708, 3.57191106, 5.6130031 , 2.04109203, 5.10273009,\n",
       "         3.57191106, 6.1232761 , 5.10273009, 6.1232761 , 3.57191106,\n",
       "         4.59245708, 8.16436814, 6.1232761 , 5.10273009, 5.6130031 ,\n",
       "         6.1232761 , 3.57191106, 5.6130031 , 5.6130031 , 4.59245708,\n",
       "         6.1232761 , 5.6130031 , 5.6130031 , 6.63354911, 6.1232761 ,\n",
       "         5.10273009, 2.55136504, 4.59245708, 7.14382212, 7.14382212,\n",
       "         6.1232761 , 5.10273009, 3.57191106, 5.10273009, 5.10273009,\n",
       "         3.06163805, 4.08218407, 4.59245708, 3.06163805, 4.59245708,\n",
       "         2.04109203, 4.59245708, 6.1232761 , 2.55136504, 4.59245708,\n",
       "         2.55136504, 4.08218407, 5.6130031 , 4.59245708, 4.59245708,\n",
       "         5.10273009, 5.6130031 , 4.08218407, 3.57191106, 4.08218407,\n",
       "         3.57191106, 5.10273009, 6.1232761 , 4.59245708, 5.6130031 ,\n",
       "         7.14382212, 6.1232761 , 5.10273009, 4.59245708, 6.1232761 ,\n",
       "         4.08218407, 3.06163805, 5.6130031 , 5.10273009, 6.63354911,\n",
       "         3.06163805, 3.06163805, 5.6130031 , 2.55136504, 8.16436814,\n",
       "         6.1232761 , 3.06163805, 3.06163805, 4.59245708, 5.10273009,\n",
       "         5.6130031 , 2.04109203, 5.10273009, 2.55136504, 5.10273009,\n",
       "         5.10273009, 8.16436814, 7.65409513, 6.1232761 , 5.6130031 ,\n",
       "         5.10273009, 4.08218407, 5.6130031 , 6.1232761 , 1.53081903,\n",
       "         6.63354911, 7.14382212, 8.67464115, 6.1232761 , 5.10273009,\n",
       "         8.67464115, 3.06163805, 4.59245708, 5.10273009, 5.6130031 ,\n",
       "         6.1232761 , 5.6130031 , 7.65409513, 7.14382212, 5.10273009,\n",
       "         3.57191106, 4.08218407, 5.6130031 , 5.6130031 , 3.57191106,\n",
       "         2.55136504, 6.1232761 , 4.59245708, 6.1232761 , 5.6130031 ,\n",
       "         5.10273009, 3.57191106, 4.08218407, 3.06163805, 4.59245708,\n",
       "         3.57191106, 5.10273009, 4.59245708, 2.55136504, 4.59245708,\n",
       "         5.10273009, 2.55136504, 5.6130031 , 3.06163805, 4.08218407,\n",
       "         2.04109203, 7.65409513, 4.59245708, 4.59245708, 5.6130031 ,\n",
       "         4.08218407, 5.10273009, 5.10273009, 6.1232761 , 5.10273009,\n",
       "         2.04109203, 1.53081903, 6.1232761 , 5.10273009, 4.59245708,\n",
       "         3.57191106, 6.1232761 , 6.1232761 , 4.59245708, 5.6130031 ,\n",
       "         4.08218407, 3.06163805, 4.08218407, 7.14382212, 5.6130031 ,\n",
       "         3.57191106, 6.1232761 , 6.1232761 , 5.10273009, 4.59245708,\n",
       "         5.6130031 , 3.57191106, 4.08218407, 7.14382212, 5.10273009,\n",
       "         6.1232761 , 5.10273009, 6.1232761 , 5.10273009, 2.55136504,\n",
       "         6.1232761 , 4.59245708, 4.59245708, 4.59245708, 6.1232761 ,\n",
       "         5.6130031 , 3.06163805, 2.04109203, 4.08218407, 5.6130031 ,\n",
       "         4.59245708, 3.57191106, 6.1232761 , 2.04109203, 6.63354911,\n",
       "         4.08218407, 7.14382212, 3.06163805, 5.6130031 , 6.1232761 ,\n",
       "         5.10273009, 7.14382212, 4.59245708, 5.10273009, 7.14382212,\n",
       "         3.57191106, 4.59245708, 3.57191106, 5.6130031 , 6.1232761 ,\n",
       "         4.08218407, 6.1232761 , 5.10273009, 5.6130031 , 6.1232761 ,\n",
       "         2.55136504, 7.14382212, 4.59245708, 5.6130031 , 3.57191106,\n",
       "         3.57191106, 5.6130031 , 5.10273009, 7.65409513, 5.10273009,\n",
       "         4.59245708, 6.63354911, 3.57191106, 4.59245708, 5.6130031 ,\n",
       "         4.59245708, 3.06163805, 5.10273009, 5.10273009, 7.14382212,\n",
       "         6.1232761 , 4.59245708, 4.08218407, 6.63354911, 1.02054602,\n",
       "         4.59245708, 9.18491416, 4.59245708, 3.57191106, 5.6130031 ,\n",
       "         8.67464115, 5.10273009, 4.59245708, 4.08218407, 5.6130031 ,\n",
       "         5.10273009, 6.1232761 , 5.10273009, 2.04109203, 4.59245708,\n",
       "         4.59245708, 7.14382212, 3.06163805, 5.10273009, 2.55136504,\n",
       "         4.08218407, 5.6130031 , 4.08218407, 1.53081903, 6.1232761 ,\n",
       "         2.04109203, 6.1232761 , 3.57191106, 3.57191106, 6.1232761 ,\n",
       "         6.63354911, 1.53081903, 3.06163805, 6.63354911, 3.06163805,\n",
       "         4.08218407, 4.59245708, 6.63354911, 7.65409513, 3.06163805,\n",
       "         3.57191106, 5.10273009, 5.6130031 , 7.14382212, 3.57191106,\n",
       "         4.08218407, 3.06163805, 6.63354911, 4.08218407, 8.16436814,\n",
       "         5.6130031 , 5.6130031 , 5.10273009, 3.57191106, 3.06163805,\n",
       "         6.1232761 ],\n",
       "        [4.40754292, 4.89726991, 3.42808894, 3.42808894, 4.40754292,\n",
       "         2.93836195, 4.89726991, 7.34590487, 6.36645089, 3.42808894,\n",
       "         6.85617788, 3.91781593, 2.93836195, 3.91781593, 3.91781593,\n",
       "         3.91781593, 5.3869969 , 4.89726991, 5.8767239 , 2.44863496,\n",
       "         5.3869969 , 7.34590487, 5.3869969 , 2.93836195, 4.40754292,\n",
       "         2.44863496, 4.89726991, 6.85617788, 3.42808894, 6.85617788,\n",
       "         4.40754292, 5.3869969 , 5.3869969 , 4.40754292, 3.42808894,\n",
       "         5.3869969 , 3.91781593, 3.91781593, 4.89726991, 6.85617788,\n",
       "         3.91781593, 6.85617788, 6.36645089, 3.91781593, 3.91781593,\n",
       "         4.89726991, 5.3869969 , 7.83563186, 5.8767239 , 7.83563186,\n",
       "         4.40754292, 2.93836195, 3.91781593, 5.8767239 , 5.3869969 ,\n",
       "         7.34590487, 2.93836195, 4.89726991, 2.93836195, 2.44863496,\n",
       "         6.85617788, 5.3869969 , 5.3869969 , 4.40754292, 6.85617788,\n",
       "         2.93836195, 6.85617788, 5.3869969 , 6.85617788, 4.89726991,\n",
       "         6.36645089, 4.40754292, 5.3869969 , 4.40754292, 4.40754292,\n",
       "         4.40754292, 3.42808894, 5.3869969 , 1.95890797, 4.89726991,\n",
       "         3.42808894, 5.8767239 , 4.89726991, 5.8767239 , 3.42808894,\n",
       "         4.40754292, 7.83563186, 5.8767239 , 4.89726991, 5.3869969 ,\n",
       "         5.8767239 , 3.42808894, 5.3869969 , 5.3869969 , 4.40754292,\n",
       "         5.8767239 , 5.3869969 , 5.3869969 , 6.36645089, 5.8767239 ,\n",
       "         4.89726991, 2.44863496, 4.40754292, 6.85617788, 6.85617788,\n",
       "         5.8767239 , 4.89726991, 3.42808894, 4.89726991, 4.89726991,\n",
       "         2.93836195, 3.91781593, 4.40754292, 2.93836195, 4.40754292,\n",
       "         1.95890797, 4.40754292, 5.8767239 , 2.44863496, 4.40754292,\n",
       "         2.44863496, 3.91781593, 5.3869969 , 4.40754292, 4.40754292,\n",
       "         4.89726991, 5.3869969 , 3.91781593, 3.42808894, 3.91781593,\n",
       "         3.42808894, 4.89726991, 5.8767239 , 4.40754292, 5.3869969 ,\n",
       "         6.85617788, 5.8767239 , 4.89726991, 4.40754292, 5.8767239 ,\n",
       "         3.91781593, 2.93836195, 5.3869969 , 4.89726991, 6.36645089,\n",
       "         2.93836195, 2.93836195, 5.3869969 , 2.44863496, 7.83563186,\n",
       "         5.8767239 , 2.93836195, 2.93836195, 4.40754292, 4.89726991,\n",
       "         5.3869969 , 1.95890797, 4.89726991, 2.44863496, 4.89726991,\n",
       "         4.89726991, 7.83563186, 7.34590487, 5.8767239 , 5.3869969 ,\n",
       "         4.89726991, 3.91781593, 5.3869969 , 5.8767239 , 1.46918097,\n",
       "         6.36645089, 6.85617788, 8.32535885, 5.8767239 , 4.89726991,\n",
       "         8.32535885, 2.93836195, 4.40754292, 4.89726991, 5.3869969 ,\n",
       "         5.8767239 , 5.3869969 , 7.34590487, 6.85617788, 4.89726991,\n",
       "         3.42808894, 3.91781593, 5.3869969 , 5.3869969 , 3.42808894,\n",
       "         2.44863496, 5.8767239 , 4.40754292, 5.8767239 , 5.3869969 ,\n",
       "         4.89726991, 3.42808894, 3.91781593, 2.93836195, 4.40754292,\n",
       "         3.42808894, 4.89726991, 4.40754292, 2.44863496, 4.40754292,\n",
       "         4.89726991, 2.44863496, 5.3869969 , 2.93836195, 3.91781593,\n",
       "         1.95890797, 7.34590487, 4.40754292, 4.40754292, 5.3869969 ,\n",
       "         3.91781593, 4.89726991, 4.89726991, 5.8767239 , 4.89726991,\n",
       "         1.95890797, 1.46918097, 5.8767239 , 4.89726991, 4.40754292,\n",
       "         3.42808894, 5.8767239 , 5.8767239 , 4.40754292, 5.3869969 ,\n",
       "         3.91781593, 2.93836195, 3.91781593, 6.85617788, 5.3869969 ,\n",
       "         3.42808894, 5.8767239 , 5.8767239 , 4.89726991, 4.40754292,\n",
       "         5.3869969 , 3.42808894, 3.91781593, 6.85617788, 4.89726991,\n",
       "         5.8767239 , 4.89726991, 5.8767239 , 4.89726991, 2.44863496,\n",
       "         5.8767239 , 4.40754292, 4.40754292, 4.40754292, 5.8767239 ,\n",
       "         5.3869969 , 2.93836195, 1.95890797, 3.91781593, 5.3869969 ,\n",
       "         4.40754292, 3.42808894, 5.8767239 , 1.95890797, 6.36645089,\n",
       "         3.91781593, 6.85617788, 2.93836195, 5.3869969 , 5.8767239 ,\n",
       "         4.89726991, 6.85617788, 4.40754292, 4.89726991, 6.85617788,\n",
       "         3.42808894, 4.40754292, 3.42808894, 5.3869969 , 5.8767239 ,\n",
       "         3.91781593, 5.8767239 , 4.89726991, 5.3869969 , 5.8767239 ,\n",
       "         2.44863496, 6.85617788, 4.40754292, 5.3869969 , 3.42808894,\n",
       "         3.42808894, 5.3869969 , 4.89726991, 7.34590487, 4.89726991,\n",
       "         4.40754292, 6.36645089, 3.42808894, 4.40754292, 5.3869969 ,\n",
       "         4.40754292, 2.93836195, 4.89726991, 4.89726991, 6.85617788,\n",
       "         5.8767239 , 4.40754292, 3.91781593, 6.36645089, 0.97945398,\n",
       "         4.40754292, 8.81508584, 4.40754292, 3.42808894, 5.3869969 ,\n",
       "         8.32535885, 4.89726991, 4.40754292, 3.91781593, 5.3869969 ,\n",
       "         4.89726991, 5.8767239 , 4.89726991, 1.95890797, 4.40754292,\n",
       "         4.40754292, 6.85617788, 2.93836195, 4.89726991, 2.44863496,\n",
       "         3.91781593, 5.3869969 , 3.91781593, 1.46918097, 5.8767239 ,\n",
       "         1.95890797, 5.8767239 , 3.42808894, 3.42808894, 5.8767239 ,\n",
       "         6.36645089, 1.46918097, 2.93836195, 6.36645089, 2.93836195,\n",
       "         3.91781593, 4.40754292, 6.36645089, 7.34590487, 2.93836195,\n",
       "         3.42808894, 4.89726991, 5.3869969 , 6.85617788, 3.42808894,\n",
       "         3.91781593, 2.93836195, 6.36645089, 3.91781593, 7.83563186,\n",
       "         5.3869969 , 5.3869969 , 4.89726991, 3.42808894, 2.93836195,\n",
       "         5.8767239 ]]))"
      ]
     },
     "execution_count": 76,
     "metadata": {},
     "output_type": "execute_result"
    }
   ],
   "source": [
    "chi2_independence(0.05, kf_data)"
   ]
  },
  {
   "cell_type": "code",
   "execution_count": null,
   "metadata": {},
   "outputs": [],
   "source": []
  }
 ],
 "metadata": {
  "kernelspec": {
   "display_name": "Python 3",
   "language": "python",
   "name": "python3"
  },
  "language_info": {
   "codemirror_mode": {
    "name": "ipython",
    "version": 3
   },
   "file_extension": ".py",
   "mimetype": "text/x-python",
   "name": "python",
   "nbconvert_exporter": "python",
   "pygments_lexer": "ipython3",
   "version": "3.8.3"
  }
 },
 "nbformat": 4,
 "nbformat_minor": 4
}
