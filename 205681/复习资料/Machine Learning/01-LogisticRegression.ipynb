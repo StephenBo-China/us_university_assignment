{
 "cells": [
  {
   "cell_type": "markdown",
   "metadata": {},
   "source": [
    "#### CSCI-UA.0473-​001 Introduction to Machine Learning\n",
    "\n",
    "# Logistic Regression Lab\n",
    "\n",
    "\n",
    "\n",
    "\n",
    "### Name: (your name goes here)\n",
    "\n",
    "\n",
    "### Date: Sept. 16, 2020\n",
    "\n",
    "\n",
    "## Goal:  The goal of this lab is demonstrate some of the main points about logistic regression."
   ]
  },
  {
   "cell_type": "code",
   "execution_count": 13,
   "metadata": {},
   "outputs": [],
   "source": [
    "# Let's import the packages we'll need.\n",
    "import numpy as np\n",
    "import matplotlib.pyplot as plt\n",
    "from sklearn.linear_model import LogisticRegression\n",
    "from sklearn import datasets\n",
    "from sklearn import metrics\n",
    "from sklearn import model_selection\n",
    "import pandas as pd"
   ]
  },
  {
   "cell_type": "markdown",
   "metadata": {},
   "source": [
    "## Binary classification for breast cancer\n",
    "\n",
    "Let's load one of the Sci-kit learn datasets.  We'll try to make a model to predict whether a person has breast cancer.\n",
    "\n",
    "Helper method below copied from: [Helper Method](https://stackoverflow.com/questions/38105539/how-to-convert-a-scikit-learn-dataset-to-a-pandas-dataset)"
   ]
  },
  {
   "cell_type": "code",
   "execution_count": 14,
   "metadata": {},
   "outputs": [],
   "source": [
    "# General helper method to convert sci-kit datasets to Pandas DataFrame.\n",
    "def sklearn_to_df(sklearn_dataset):\n",
    "    df = pd.DataFrame(sklearn_dataset.data, columns=sklearn_dataset.feature_names)\n",
    "    df['target'] = pd.Series(sklearn_dataset.target)\n",
    "    return df"
   ]
  },
  {
   "cell_type": "markdown",
   "metadata": {},
   "source": [
    "Let's just see how the data looks really quick."
   ]
  },
  {
   "cell_type": "code",
   "execution_count": 15,
   "metadata": {},
   "outputs": [
    {
     "name": "stdout",
     "output_type": "stream",
     "text": [
      "   mean radius  mean texture  mean perimeter  mean area  mean smoothness  \\\n",
      "0        17.99         10.38          122.80     1001.0          0.11840   \n",
      "1        20.57         17.77          132.90     1326.0          0.08474   \n",
      "2        19.69         21.25          130.00     1203.0          0.10960   \n",
      "3        11.42         20.38           77.58      386.1          0.14250   \n",
      "4        20.29         14.34          135.10     1297.0          0.10030   \n",
      "\n",
      "   mean compactness  mean concavity  mean concave points  mean symmetry  \\\n",
      "0           0.27760          0.3001              0.14710         0.2419   \n",
      "1           0.07864          0.0869              0.07017         0.1812   \n",
      "2           0.15990          0.1974              0.12790         0.2069   \n",
      "3           0.28390          0.2414              0.10520         0.2597   \n",
      "4           0.13280          0.1980              0.10430         0.1809   \n",
      "\n",
      "   mean fractal dimension  ...  worst texture  worst perimeter  worst area  \\\n",
      "0                 0.07871  ...          17.33           184.60      2019.0   \n",
      "1                 0.05667  ...          23.41           158.80      1956.0   \n",
      "2                 0.05999  ...          25.53           152.50      1709.0   \n",
      "3                 0.09744  ...          26.50            98.87       567.7   \n",
      "4                 0.05883  ...          16.67           152.20      1575.0   \n",
      "\n",
      "   worst smoothness  worst compactness  worst concavity  worst concave points  \\\n",
      "0            0.1622             0.6656           0.7119                0.2654   \n",
      "1            0.1238             0.1866           0.2416                0.1860   \n",
      "2            0.1444             0.4245           0.4504                0.2430   \n",
      "3            0.2098             0.8663           0.6869                0.2575   \n",
      "4            0.1374             0.2050           0.4000                0.1625   \n",
      "\n",
      "   worst symmetry  worst fractal dimension  target  \n",
      "0          0.4601                  0.11890       0  \n",
      "1          0.2750                  0.08902       0  \n",
      "2          0.3613                  0.08758       0  \n",
      "3          0.6638                  0.17300       0  \n",
      "4          0.2364                  0.07678       0  \n",
      "\n",
      "[5 rows x 31 columns]\n"
     ]
    }
   ],
   "source": [
    "cancer_dataset = datasets.load_breast_cancer() # Load the data and convert to a pandas dataframe\n",
    "df = sklearn_to_df(cancer_dataset)\n",
    "\n",
    "print(df.head()) # Print out the first five data points.\n"
   ]
  },
  {
   "cell_type": "markdown",
   "metadata": {},
   "source": [
    "Gather a few summary statistics about our data."
   ]
  },
  {
   "cell_type": "code",
   "execution_count": 16,
   "metadata": {},
   "outputs": [
    {
     "name": "stdout",
     "output_type": "stream",
     "text": [
      "N = 569 data points\n"
     ]
    },
    {
     "data": {
      "image/png": "[encoded data removed]",
      "text/plain": [
       "<Figure size 432x288 with 1 Axes>"
      ]
     },
     "metadata": {
      "needs_background": "light"
     },
     "output_type": "display_data"
    }
   ],
   "source": [
    "N = len(df) # The number of data points.\n",
    "print('N = {:d} data points'.format(N))\n",
    "\n",
    "# Give a barplot of each class.\n",
    "plt.figure(1)\n",
    "plt.bar([0,1], df['target'].value_counts(ascending = True), color = ['r', 'b'], tick_label = cancer_dataset.target_names)\n",
    "plt.ylabel('Count')\n",
    "plt.title('Cancer Dataset: Class Counts');"
   ]
  },
  {
   "cell_type": "markdown",
   "metadata": {},
   "source": [
    "This dataset is unbalanced because there are more examples of benign cancer than malignant.  This is typical of many real-life datasets where we are sometimes limited in how many training examples we have.  Let's split our data into a training and test set.  We'll use a 60/40 split."
   ]
  },
  {
   "cell_type": "code",
   "execution_count": 17,
   "metadata": {},
   "outputs": [],
   "source": [
    "# Split the data.  DO NOT TOUCH THE TEST DATA FROM HERE ON!!\n",
    "train_data, test_data = model_selection.train_test_split(df, test_size = 0.4) # 0.4 is 40% test data.\n",
    "\n",
    "# Split the features from the class labels.\n",
    "X_train = train_data.drop('target', axis = 1) # We drop the target from the features.  \n",
    "X_test  = test_data.drop('target', axis = 1)  # Note that this does not operate inplace.\n",
    " \n",
    "y_train = train_data['target']\n",
    "y_test  = test_data['target']"
   ]
  },
  {
   "cell_type": "markdown",
   "metadata": {},
   "source": [
    "Now that our data is loaded and split we can train a logistic regression model.  For the optimization we use the \"liblinear\" solver.  There are many other solvers that are also available, such as Newton CG for example.  For more information see the documentation: [Documentation](https://scikit-learn.org/stable/modules/generated/sklearn.linear_model.LogisticRegression.html)."
   ]
  },
  {
   "cell_type": "code",
   "execution_count": 18,
   "metadata": {},
   "outputs": [],
   "source": [
    "# Now fit a logistic regression model.\n",
    "model = LogisticRegression(solver = 'liblinear', class_weight = 'balanced')\n",
    "model.fit(X_train, y_train);"
   ]
  },
  {
   "cell_type": "markdown",
   "metadata": {},
   "source": [
    "The model is trained so we can test it on our test set.  The Sci-kit metrics module contains many useful functions for this purpose.  We try out a few of them below."
   ]
  },
  {
   "cell_type": "code",
   "execution_count": 19,
   "metadata": {},
   "outputs": [
    {
     "name": "stdout",
     "output_type": "stream",
     "text": [
      "Accuracy = 95.2%\n",
      "Confusion matrix = \n",
      "[[ 80   8]\n",
      " [  3 137]]\n",
      "Precision = 94.5%\n",
      "Recall    = 97.9%\n"
     ]
    }
   ],
   "source": [
    "pred = model.predict(X_test)\n",
    "\n",
    "# See the percentage of examples that are correctly classified.\n",
    "accuracy = metrics.accuracy_score(y_test, pred) \n",
    "print(\"Accuracy = {:0.1f}%\".format(accuracy * 100))\n",
    "\n",
    "# The matrix of predictions and true values for each class.\n",
    "conf_matrix = metrics.confusion_matrix(y_test, pred)\n",
    "print(\"Confusion matrix = \")\n",
    "print(conf_matrix)\n",
    "\n",
    "# Precision score.\n",
    "precision = metrics.precision_score(y_test, pred)\n",
    "print(\"Precision = {:0.1f}%\".format(100 * precision))\n",
    "\n",
    "# Recall score.\n",
    "recall = metrics.recall_score(y_test, pred)\n",
    "print(\"Recall    = {:0.1f}%\".format(100 * recall))"
   ]
  },
  {
   "cell_type": "markdown",
   "metadata": {},
   "source": [
    "Let's briefly explain some of these metrics.  Accuracy is obviously the percentage of all correctly classified examples in our test set.  The confusion matrix is the following matrix:\n",
    "$$\n",
    "C = \\begin{bmatrix}\n",
    "\\text{Predict 0, Actual 0} & \\text{Predict 0, Actual 1}\\\\\n",
    "\\text{Predict 1, Actual 0} & \\text{Predict 1, Actual 1}\n",
    "\\end{bmatrix}\n",
    "$$\n",
    "Notice that the diagonal entries are the examples that are correctly classified.  The precision score is the percentage \n",
    "$$\n",
    "\\text{Precision } = \\frac{C_{00}}{C_{00} + C_{01}}\n",
    "$$\n",
    "so it is the percentage of predicted malignant tumors that we classify correctly.  On the other hand, recall is\n",
    "$$\n",
    "\\text{Recall } = \\frac{C_{00}}{C_{00} + C_{10}}\n",
    "$$\n",
    "so it is the percentage of malignant tumors that we classify correctly.  Note that these are two different quantities.\n",
    "\n",
    "Using multiple evaluation metrics helps give a better picture of how well our classifier is doing."
   ]
  },
  {
   "cell_type": "markdown",
   "metadata": {},
   "source": [
    "## Multiclass Classification\n",
    "\n",
    "Multiclass classification is just when we have more than 2 classes.  Instead of modeling the posterior class probabilities as Bernoulli random variables, we can model them as multinomial random variables for example.  The example we'll consider here is the classic Iris dataset by Fisher (a prominent early statistician).  Let's load the data below."
   ]
  },
  {
   "cell_type": "code",
   "execution_count": 20,
   "metadata": {},
   "outputs": [
    {
     "name": "stdout",
     "output_type": "stream",
     "text": [
      "N =  150\n",
      "   sepal length (cm)  sepal width (cm)  petal length (cm)  petal width (cm)  \\\n",
      "0                5.1               3.5                1.4               0.2   \n",
      "1                4.9               3.0                1.4               0.2   \n",
      "2                4.7               3.2                1.3               0.2   \n",
      "3                4.6               3.1                1.5               0.2   \n",
      "4                5.0               3.6                1.4               0.2   \n",
      "\n",
      "   target  \n",
      "0       0  \n",
      "1       0  \n",
      "2       0  \n",
      "3       0  \n",
      "4       0  \n"
     ]
    }
   ],
   "source": [
    "# Load the data and convert it into a Pandas dataframe.\n",
    "iris_data = datasets.load_iris()\n",
    "df = sklearn_to_df(iris_data)\n",
    "\n",
    "# Print the first 5 examples to see how the data looks.\n",
    "print(\"N = \", len(df))\n",
    "print(df.head())"
   ]
  },
  {
   "cell_type": "markdown",
   "metadata": {},
   "source": [
    "We'll again use a 60/40 split for our training/test sets."
   ]
  },
  {
   "cell_type": "code",
   "execution_count": 21,
   "metadata": {},
   "outputs": [],
   "source": [
    "# Split the data.  DO NOT TOUCH THE TEST DATA FROM HERE ON!!\n",
    "train_data, test_data = model_selection.train_test_split(df, test_size = 0.4) # 0.4 is 40% test data.\n",
    "\n",
    "# Split the features from the class labels.\n",
    "X_train = train_data.drop('target', axis = 1) # We drop the target from the features.  \n",
    "X_test  = test_data.drop('target', axis = 1)  # Note that this does not operate inplace.\n",
    " \n",
    "y_train = train_data['target']\n",
    "y_test  = test_data['target']"
   ]
  },
  {
   "cell_type": "markdown",
   "metadata": {},
   "source": [
    "Since we have less data (only 150 samples) we could not really afford to divide up our data into a training, validation, and test set.  However, we can still get an estimate of how our model will perform on our test set using cross-validation.  Here we will use $k$-fold cross-validation with $k=10$.  This works by splitting the training data into 10 disjoint sets.  We then leave out one of these sets and train our model on the remaining 9 sets and treat the left out set as a validation set.  We repeat this a total of 10 times and average the validation scores.  If $k = N$ is the number of samples, then this is also called leave one out cross-validation (LOOCV).  Note that using $k$-fold cross-validation is more expensive than if we had a separate validation set to begin with because we have to train our model many times.\n",
    "\n",
    "Cross-validation will become more useful when we have a hyperparameter to control during training and want to see which value of the hyperparameter will give the best results.\n",
    "\n",
    "Below we compare 2 logistic regression models using cross-validation.  The first model is trained on all of the features whereas the second model is only trained on \"sepal length\" and \"sepal width\"."
   ]
  },
  {
   "cell_type": "code",
   "execution_count": 22,
   "metadata": {},
   "outputs": [
    {
     "name": "stdout",
     "output_type": "stream",
     "text": [
      "Model 1 CV score =  0.9766666666666666\n",
      "Model 2 CV score =  0.7766666666666666\n"
     ]
    }
   ],
   "source": [
    "# Get the 2 different models.\n",
    "model1 = LogisticRegression(multi_class = 'multinomial', solver = 'newton-cg')\n",
    "model2 = LogisticRegression(multi_class = 'multinomial', solver = 'newton-cg')\n",
    "\n",
    "X_train2 = X_train[['sepal length (cm)', 'sepal width (cm)']]\n",
    "\n",
    "# k-fold cross-validation.\n",
    "k = 25\n",
    "splitter = model_selection.KFold(k)\n",
    "\n",
    "# Compute cross-validation scores.\n",
    "cv_scores1 = model_selection.cross_val_score(model1, X_train, y_train, cv = splitter)\n",
    "cv_scores2 = model_selection.cross_val_score(model2, X_train2, y_train, cv = splitter)\n",
    "\n",
    "# Print the means of the scores.\n",
    "print(\"Model 1 CV score = \", np.mean(cv_scores1))\n",
    "print(\"Model 2 CV score = \", np.mean(cv_scores2))"
   ]
  },
  {
   "cell_type": "markdown",
   "metadata": {},
   "source": [
    "### Learning curves\n",
    "\n",
    "We can also look to see how our two models perform when given additional training examples.  A learning curve shows the tradeoff between the number of samples we use to train and the model's predictive accuracy.  We plot the learning curves for our two models below."
   ]
  },
  {
   "cell_type": "code",
   "execution_count": 23,
   "metadata": {},
   "outputs": [
    {
     "data": {
      "image/png": "[encoded data removed]",
      "text/plain": [
       "<Figure size 720x288 with 2 Axes>"
      ]
     },
     "metadata": {
      "needs_background": "light"
     },
     "output_type": "display_data"
    }
   ],
   "source": [
    "fig, (ax1, ax2) = plt.subplots(1,2, figsize = (10,4))\n",
    "\n",
    "train_sizes1, train_scores1, test_scores1 = model_selection.learning_curve(model1, X_train, y_train, cv = splitter)\n",
    "train_sizes2, train_scores2, test_scores2 = model_selection.learning_curve(model2, X_train2, y_train, cv = splitter)\n",
    "\n",
    "train_scores_mean1 = np.mean(train_scores1, axis = 1)\n",
    "test_scores_mean1  = np.mean(test_scores1, axis = 1)\n",
    "train_scores_std1  = np.std(train_scores1, axis = 1)\n",
    "test_scores_std1   = np.std(test_scores1, axis = 1)\n",
    "\n",
    "train_scores_mean2 = np.mean(train_scores2, axis = 1)\n",
    "test_scores_mean2  = np.mean(test_scores2, axis = 1)\n",
    "train_scores_std2  = np.std(train_scores2, axis = 1)\n",
    "test_scores_std2   = np.std(test_scores2, axis = 1)\n",
    "\n",
    "ax1.set_title('Logistic Regression Model 1')\n",
    "ax1.plot(train_sizes1, train_scores_mean1, 'o-', label = 'Training')\n",
    "ax1.plot(train_sizes1, test_scores_mean1, 's-', label = 'Validation')\n",
    "ax1.fill_between(train_sizes1, train_scores_mean1 - train_scores_std1, train_scores_mean1 + train_scores_std1, alpha = 0.1)\n",
    "ax1.fill_between(train_sizes1, test_scores_mean1 - test_scores_std1, test_scores_mean1 + test_scores_std1, alpha = 0.1)\n",
    "ax1.set_xlabel('Training Examples')\n",
    "ax1.set_ylabel('Score')\n",
    "ax1.grid()\n",
    "ax1.legend()\n",
    "\n",
    "ax2.set_title('Logistic Regression Model 2')\n",
    "ax2.plot(train_sizes2, train_scores_mean2, 'o-', label = 'Training')\n",
    "ax2.plot(train_sizes2, test_scores_mean2, 's-', label = 'Validation')\n",
    "ax2.fill_between(train_sizes2, train_scores_mean2 - train_scores_std2, train_scores_mean2 + train_scores_std2, alpha = 0.1)\n",
    "ax2.fill_between(train_sizes2, test_scores_mean2 - test_scores_std2, test_scores_mean2 + test_scores_std2, alpha = 0.1)\n",
    "ax2.set_xlabel('Training Examples')\n",
    "ax2.set_ylabel('Score')\n",
    "ax2.grid()\n",
    "ax2.legend()\n",
    "\n",
    "plt.tight_layout();"
   ]
  },
  {
   "cell_type": "markdown",
   "metadata": {},
   "source": [
    "### Evaluate the models.\n",
    "\n",
    "Finally, we actually evaluate our two models on our test set.  The first model has a higher cross-validation score so we expect it to do better on the test set."
   ]
  },
  {
   "cell_type": "code",
   "execution_count": 24,
   "metadata": {},
   "outputs": [
    {
     "name": "stdout",
     "output_type": "stream",
     "text": [
      "Logistic regression model accuracy (all features) = 95.0%\n",
      "Logistic regression model accuracy (2 features)   = 76.7%\n"
     ]
    }
   ],
   "source": [
    "model1.fit(X_train, y_train)\n",
    "model2.fit(X_train2, y_train)\n",
    "\n",
    "pred1 = model1.predict(X_test)\n",
    "\n",
    "X_test2 = X_test[['sepal length (cm)', 'sepal width (cm)']]\n",
    "pred2 = model2.predict(X_test2)\n",
    "\n",
    "# Get the percent of correctly classified results.\n",
    "acc1 = metrics.accuracy_score(pred1, y_test)\n",
    "acc2 = metrics.accuracy_score(pred2, y_test)\n",
    "\n",
    "print(\"Logistic regression model accuracy (all features) = {:0.1f}%\".format(100 * acc1))\n",
    "print(\"Logistic regression model accuracy (2 features)   = {:0.1f}%\".format(100 * acc2))"
   ]
  },
  {
   "cell_type": "markdown",
   "metadata": {},
   "source": [
    "As we'd expect, training with more features gives us a more flexible model.  Excluding the remaining features is equivalent to setting their weights to 0.  Thus, we are solving a constrained minimization problem when we train, which will worse than solving the unconstrained problem where we are using all of the features."
   ]
  },
  {
   "cell_type": "code",
   "execution_count": null,
   "metadata": {},
   "outputs": [],
   "source": []
  }
 ],
 "metadata": {
  "kernelspec": {
   "display_name": "Python 3",
   "language": "python",
   "name": "python3"
  },
  "language_info": {
   "codemirror_mode": {
    "name": "ipython",
    "version": 3
   },
   "file_extension": ".py",
   "mimetype": "text/x-python",
   "name": "python",
   "nbconvert_exporter": "python",
   "pygments_lexer": "ipython3",
   "version": "3.8.5"
  }
 },
 "nbformat": 4,
 "nbformat_minor": 2
}
